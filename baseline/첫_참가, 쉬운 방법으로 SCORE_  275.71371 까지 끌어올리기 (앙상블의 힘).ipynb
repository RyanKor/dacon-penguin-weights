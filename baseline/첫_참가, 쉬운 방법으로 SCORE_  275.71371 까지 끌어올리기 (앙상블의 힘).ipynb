{
 "cells": [
  {
   "cell_type": "markdown",
   "metadata": {
    "id": "Iog_CEmPnZt3"
   },
   "source": [
    "# 펭귄 몸무게 예측 dacon"
   ]
  },
  {
   "cell_type": "code",
   "execution_count": 1,
   "metadata": {
    "id": "RXlpoIzup3Tg"
   },
   "outputs": [],
   "source": [
    "import pandas as pd \n",
    "import numpy as np\n",
    "import matplotlib.pyplot as plt\n",
    "import seaborn as sns\n",
    "from sklearn.preprocessing import LabelEncoder\n",
    "\n",
    "# 다운받은 csv를 pandas의 DataFrame 형식으로 불러옵니다.\n",
    "import pandas as pd \n",
    "df_train = pd.read_csv('./dataset/train.csv')\n",
    "df_test = pd.read_csv('./dataset/test.csv')\n",
    "\n"
   ]
  },
  {
   "cell_type": "markdown",
   "metadata": {
    "id": "KDOvsegZr7VO"
   },
   "source": [
    "features 파악"
   ]
  },
  {
   "cell_type": "code",
   "execution_count": 2,
   "metadata": {
    "colab": {
     "base_uri": "https://localhost:8080/"
    },
    "id": "Al8tG1Opr-DP",
    "outputId": "6b40cb60-6261-4b2c-8a8a-e280e3560da6"
   },
   "outputs": [
    {
     "name": "stdout",
     "output_type": "stream",
     "text": [
      "<class 'pandas.core.frame.DataFrame'>\n",
      "RangeIndex: 114 entries, 0 to 113\n",
      "Data columns (total 11 columns):\n",
      " #   Column               Non-Null Count  Dtype  \n",
      "---  ------               --------------  -----  \n",
      " 0   id                   114 non-null    int64  \n",
      " 1   Species              114 non-null    object \n",
      " 2   Island               114 non-null    object \n",
      " 3   Clutch Completion    114 non-null    object \n",
      " 4   Culmen Length (mm)   114 non-null    float64\n",
      " 5   Culmen Depth (mm)    114 non-null    float64\n",
      " 6   Flipper Length (mm)  114 non-null    int64  \n",
      " 7   Sex                  111 non-null    object \n",
      " 8   Delta 15 N (o/oo)    111 non-null    float64\n",
      " 9   Delta 13 C (o/oo)    111 non-null    float64\n",
      " 10  Body Mass (g)        114 non-null    int64  \n",
      "dtypes: float64(4), int64(3), object(4)\n",
      "memory usage: 9.9+ KB\n",
      "<class 'pandas.core.frame.DataFrame'>\n",
      "RangeIndex: 228 entries, 0 to 227\n",
      "Data columns (total 10 columns):\n",
      " #   Column               Non-Null Count  Dtype  \n",
      "---  ------               --------------  -----  \n",
      " 0   id                   228 non-null    int64  \n",
      " 1   Species              228 non-null    object \n",
      " 2   Island               228 non-null    object \n",
      " 3   Clutch Completion    228 non-null    object \n",
      " 4   Culmen Length (mm)   228 non-null    float64\n",
      " 5   Culmen Depth (mm)    228 non-null    float64\n",
      " 6   Flipper Length (mm)  228 non-null    float64\n",
      " 7   Sex                  222 non-null    object \n",
      " 8   Delta 15 N (o/oo)    219 non-null    float64\n",
      " 9   Delta 13 C (o/oo)    220 non-null    float64\n",
      "dtypes: float64(5), int64(1), object(4)\n",
      "memory usage: 17.9+ KB\n"
     ]
    },
    {
     "data": {
      "text/plain": [
       "(None, None)"
      ]
     },
     "execution_count": 2,
     "metadata": {},
     "output_type": "execute_result"
    }
   ],
   "source": [
    "df_train.info(), df_test.info()"
   ]
  },
  {
   "cell_type": "markdown",
   "metadata": {
    "id": "ukmRx8ftA5nQ"
   },
   "source": []
  },
  {
   "cell_type": "code",
   "execution_count": 3,
   "metadata": {
    "colab": {
     "base_uri": "https://localhost:8080/"
    },
    "id": "wacQ6eKQVioo",
    "outputId": "68a97c6b-02eb-4159-d798-35153f14695d"
   },
   "outputs": [
    {
     "name": "stdout",
     "output_type": "stream",
     "text": [
      "df_train 결측치 조회\n",
      "Species                0\n",
      "Island                 0\n",
      "Clutch Completion      0\n",
      "Culmen Length (mm)     0\n",
      "Culmen Depth (mm)      0\n",
      "Flipper Length (mm)    0\n",
      "Sex                    3\n",
      "Delta 15 N (o/oo)      3\n",
      "Delta 13 C (o/oo)      3\n",
      "Body Mass (g)          0\n",
      "dtype: int64\n",
      "df_test 결측치 조회\n",
      "Species                0\n",
      "Island                 0\n",
      "Clutch Completion      0\n",
      "Culmen Length (mm)     0\n",
      "Culmen Depth (mm)      0\n",
      "Flipper Length (mm)    0\n",
      "Sex                    6\n",
      "Delta 15 N (o/oo)      9\n",
      "Delta 13 C (o/oo)      8\n",
      "dtype: int64\n"
     ]
    }
   ],
   "source": [
    "df_train.drop('id', axis=1, inplace = True) # id는 제외하고 분석\n",
    "df_test.drop('id', axis=1, inplace = True)\n",
    "print(f'df_train 결측치 조회\\n{df_train.isna().sum()}') \n",
    "print(f'df_test 결측치 조회\\n{df_test.isna().sum()}')\n"
   ]
  },
  {
   "cell_type": "markdown",
   "metadata": {
    "id": "7_guGGX5A7ve"
   },
   "source": [
    "결측치가 train셋에는 9개, test셋에는 23개가 있습니다. 적절히 처리해주어야 할 것 같습니다!"
   ]
  },
  {
   "cell_type": "code",
   "execution_count": 4,
   "metadata": {
    "id": "YCLj7y9-stdH"
   },
   "outputs": [],
   "source": [
    "df_train.fillna(df_train.mean(), inplace=True)\n",
    "df_test.fillna(df_train.mean(), inplace=True)\n",
    "\n",
    "df_train.isna().sum(), df_test.isna().sum()\n",
    "\n",
    "temp_train = df_train.dropna()\n",
    "temp_test = df_test.dropna()"
   ]
  },
  {
   "cell_type": "markdown",
   "metadata": {
    "id": "SXgBz0b7BFyv"
   },
   "source": [
    "숫자형 데이터에 대해서는 평균값을 적용해 주었고 성별에 따른 몸무게의 변화가 클 것으로 예상해서 성별은 보간법을 사용하였습니다!"
   ]
  },
  {
   "cell_type": "markdown",
   "metadata": {
    "id": "aqCarZmqyiwG"
   },
   "source": [
    "# Sex에 대하여 보간법 진행\n",
    "보간법은 쉽게말해 'Sex'를 예측하는 모델을 만들고 그 예측 값을 넣어주는 것을 의미합니다.\n",
    "\n"
   ]
  },
  {
   "cell_type": "code",
   "execution_count": 5,
   "metadata": {
    "colab": {
     "base_uri": "https://localhost:8080/"
    },
    "id": "PZaKerh2yokX",
    "outputId": "99a2bd17-bdc6-4da3-a289-3eaaa63c9f7b"
   },
   "outputs": [
    {
     "data": {
      "text/plain": [
       "0.8214285714285714"
      ]
     },
     "execution_count": 5,
     "metadata": {},
     "output_type": "execute_result"
    }
   ],
   "source": [
    "X_train_Sex = temp_train.select_dtypes(include=['int', 'float'])\n",
    "X_train_Sex = X_train_Sex.drop('Body Mass (g)', axis=1)\n",
    "Y_train_Sex = temp_train['Sex']\n",
    "\n",
    "from sklearn.model_selection import train_test_split\n",
    "\n",
    "sex_x_train, sex_x_test, sex_y_train, sex_y_test = train_test_split(X_train_Sex, Y_train_Sex)\n",
    "from sklearn.ensemble import RandomForestClassifier\n",
    "model_sex = RandomForestClassifier().fit(sex_x_train, sex_y_train)\n",
    "model_sex.score(sex_x_test, sex_y_test)"
   ]
  },
  {
   "cell_type": "markdown",
   "metadata": {
    "id": "kmWgrZQlBkG0"
   },
   "source": [
    "RandomForestClassifier 모델을 통해 성별을 예측하는 모델을 만들었습니다."
   ]
  },
  {
   "cell_type": "code",
   "execution_count": 6,
   "metadata": {
    "colab": {
     "base_uri": "https://localhost:8080/"
    },
    "id": "c0igVLmt5pn6",
    "outputId": "fc09b6a6-b834-435a-bd05-33102fe840d6"
   },
   "outputs": [
    {
     "data": {
      "text/plain": [
       "Species                0\n",
       "Island                 0\n",
       "Clutch Completion      0\n",
       "Culmen Length (mm)     0\n",
       "Culmen Depth (mm)      0\n",
       "Flipper Length (mm)    0\n",
       "Sex                    3\n",
       "Delta 15 N (o/oo)      0\n",
       "Delta 13 C (o/oo)      0\n",
       "Body Mass (g)          0\n",
       "dtype: int64"
      ]
     },
     "execution_count": 6,
     "metadata": {},
     "output_type": "execute_result"
    }
   ],
   "source": [
    "df_train.isna().sum()"
   ]
  },
  {
   "cell_type": "markdown",
   "metadata": {
    "id": "IHtuI8WA7Ieg"
   },
   "source": [
    "train셋 결측치 대체"
   ]
  },
  {
   "cell_type": "code",
   "execution_count": 7,
   "metadata": {
    "id": "RrcsKOfZ5TIG"
   },
   "outputs": [],
   "source": [
    "df_train.loc[df_train['Sex'].isna(), 'Sex'] = model_sex.predict(df_train[df_train['Sex'].isna()].select_dtypes(include=['int', 'float']).drop('Body Mass (g)', axis=1))"
   ]
  },
  {
   "cell_type": "markdown",
   "metadata": {
    "id": "ec2gdYVY7VYV"
   },
   "source": [
    "train셋 결측치 대체"
   ]
  },
  {
   "cell_type": "code",
   "execution_count": 8,
   "metadata": {
    "id": "IpdzEReR7OgW"
   },
   "outputs": [],
   "source": [
    "df_test.loc[df_test['Sex'].isna(), 'Sex'] = model_sex.predict(df_test[df_test['Sex'].isna()].select_dtypes(include=['int', 'float']))"
   ]
  },
  {
   "cell_type": "markdown",
   "metadata": {
    "id": "a8hb_YGuP9tF"
   },
   "source": [
    "한 줄로 동시에 쓰느랴 복잡해 보이지만, 'Sex'에 대해 학습된 model_sex의 predict를 사용하여 값을 가져와 대입시켜주었습니다. 여기서 select_dtypes는 지정된 열의 타입만 가져오게 됩니다. 저는 int형과 float형을 추출하였고, test셋에는 'Body Mass (g)' 컬럼이 없기 때문에, 이를 포함하여 학습을 시키면 안됩니다. 따라서 drop을 통해 해당 열을 제거하였습니다."
   ]
  },
  {
   "cell_type": "markdown",
   "metadata": {
    "id": "Mfon6ZgeP-JD"
   },
   "source": []
  },
  {
   "cell_type": "markdown",
   "metadata": {
    "id": "_aGG7tLF5Kt_"
   },
   "source": [
    "성별 숫자화 (MALE: 0, FEMALE: 1)"
   ]
  },
  {
   "cell_type": "code",
   "execution_count": 9,
   "metadata": {
    "colab": {
     "base_uri": "https://localhost:8080/"
    },
    "id": "lqoD4tAN41Ms",
    "outputId": "9c076ab9-0052-4613-c36a-f296b000a104"
   },
   "outputs": [
    {
     "name": "stderr",
     "output_type": "stream",
     "text": [
      "/usr/local/lib/python3.8/dist-packages/pandas/core/indexing.py:1763: SettingWithCopyWarning: \n",
      "A value is trying to be set on a copy of a slice from a DataFrame.\n",
      "Try using .loc[row_indexer,col_indexer] = value instead\n",
      "\n",
      "See the caveats in the documentation: https://pandas.pydata.org/pandas-docs/stable/user_guide/indexing.html#returning-a-view-versus-a-copy\n",
      "  isetter(loc, value)\n"
     ]
    }
   ],
   "source": [
    "temp_train.loc[df_train['Sex'] == 'MALE', 'Sex'] = 0\n",
    "temp_train.loc[df_train['Sex'] == 'FEMALE', 'Sex'] = 1"
   ]
  },
  {
   "cell_type": "code",
   "execution_count": 10,
   "metadata": {
    "id": "zNfnZP-ez4SR"
   },
   "outputs": [],
   "source": [
    "df_train = pd.get_dummies(df_train)\n",
    "df_test = pd.get_dummies(df_test)"
   ]
  },
  {
   "cell_type": "markdown",
   "metadata": {
    "id": "VC1Sc5PyB5e3"
   },
   "source": [
    "pd.get_dummies함수는 정형 데이터에 대해 자동으로 One-Hot인코딩을 진행해주는 똑똑한 함수입니다."
   ]
  },
  {
   "cell_type": "markdown",
   "metadata": {
    "id": "YCnW6qa6Xqqd"
   },
   "source": []
  },
  {
   "cell_type": "code",
   "execution_count": 11,
   "metadata": {
    "colab": {
     "base_uri": "https://localhost:8080/"
    },
    "id": "mieZrtpZ4Pev",
    "outputId": "25998479-a536-46a8-f3f3-d5126a1c5a6c"
   },
   "outputs": [
    {
     "data": {
      "text/plain": [
       "0      5550\n",
       "1      3800\n",
       "2      4400\n",
       "3      4850\n",
       "4      5700\n",
       "       ... \n",
       "109    3700\n",
       "110    4250\n",
       "111    4100\n",
       "112    2700\n",
       "113    5600\n",
       "Name: Body Mass (g), Length: 114, dtype: int64"
      ]
     },
     "execution_count": 11,
     "metadata": {},
     "output_type": "execute_result"
    }
   ],
   "source": [
    "X = df_train.drop('Body Mass (g)', axis=1) # label을 제외한 나머지 컬럼들을 X에 저장합니다.\n",
    "Y = df_train['Body Mass (g)'] # label인 Body mess를 Y에 저장합니다.\n",
    "Y"
   ]
  },
  {
   "cell_type": "code",
   "execution_count": 12,
   "metadata": {
    "colab": {
     "base_uri": "https://localhost:8080/",
     "height": 1000
    },
    "id": "tdXCkZ0FM9JE",
    "outputId": "0ae9106d-6877-4c4c-e543-a38b01e12141"
   },
   "outputs": [
    {
     "name": "stderr",
     "output_type": "stream",
     "text": [
      "/home/work/.local/lib/python3.8/site-packages/seaborn/_decorators.py:36: FutureWarning: Pass the following variable as a keyword arg: x. From version 0.12, the only valid positional argument will be `data`, and passing other arguments without an explicit keyword will result in an error or misinterpretation.\n",
      "  warnings.warn(\n",
      "/home/work/.local/lib/python3.8/site-packages/seaborn/_decorators.py:36: FutureWarning: Pass the following variable as a keyword arg: x. From version 0.12, the only valid positional argument will be `data`, and passing other arguments without an explicit keyword will result in an error or misinterpretation.\n",
      "  warnings.warn(\n",
      "/home/work/.local/lib/python3.8/site-packages/seaborn/_decorators.py:36: FutureWarning: Pass the following variable as a keyword arg: x. From version 0.12, the only valid positional argument will be `data`, and passing other arguments without an explicit keyword will result in an error or misinterpretation.\n",
      "  warnings.warn(\n",
      "/home/work/.local/lib/python3.8/site-packages/seaborn/_decorators.py:36: FutureWarning: Pass the following variable as a keyword arg: x. From version 0.12, the only valid positional argument will be `data`, and passing other arguments without an explicit keyword will result in an error or misinterpretation.\n",
      "  warnings.warn(\n",
      "/home/work/.local/lib/python3.8/site-packages/seaborn/_decorators.py:36: FutureWarning: Pass the following variable as a keyword arg: x. From version 0.12, the only valid positional argument will be `data`, and passing other arguments without an explicit keyword will result in an error or misinterpretation.\n",
      "  warnings.warn(\n",
      "/home/work/.local/lib/python3.8/site-packages/seaborn/_decorators.py:36: FutureWarning: Pass the following variable as a keyword arg: x. From version 0.12, the only valid positional argument will be `data`, and passing other arguments without an explicit keyword will result in an error or misinterpretation.\n",
      "  warnings.warn(\n",
      "/home/work/.local/lib/python3.8/site-packages/seaborn/_decorators.py:36: FutureWarning: Pass the following variable as a keyword arg: x. From version 0.12, the only valid positional argument will be `data`, and passing other arguments without an explicit keyword will result in an error or misinterpretation.\n",
      "  warnings.warn(\n",
      "/home/work/.local/lib/python3.8/site-packages/seaborn/_decorators.py:36: FutureWarning: Pass the following variable as a keyword arg: x. From version 0.12, the only valid positional argument will be `data`, and passing other arguments without an explicit keyword will result in an error or misinterpretation.\n",
      "  warnings.warn(\n",
      "/home/work/.local/lib/python3.8/site-packages/seaborn/_decorators.py:36: FutureWarning: Pass the following variable as a keyword arg: x. From version 0.12, the only valid positional argument will be `data`, and passing other arguments without an explicit keyword will result in an error or misinterpretation.\n",
      "  warnings.warn(\n",
      "/home/work/.local/lib/python3.8/site-packages/seaborn/_decorators.py:36: FutureWarning: Pass the following variable as a keyword arg: x. From version 0.12, the only valid positional argument will be `data`, and passing other arguments without an explicit keyword will result in an error or misinterpretation.\n",
      "  warnings.warn(\n",
      "/home/work/.local/lib/python3.8/site-packages/seaborn/_decorators.py:36: FutureWarning: Pass the following variable as a keyword arg: x. From version 0.12, the only valid positional argument will be `data`, and passing other arguments without an explicit keyword will result in an error or misinterpretation.\n",
      "  warnings.warn(\n",
      "/home/work/.local/lib/python3.8/site-packages/seaborn/_decorators.py:36: FutureWarning: Pass the following variable as a keyword arg: x. From version 0.12, the only valid positional argument will be `data`, and passing other arguments without an explicit keyword will result in an error or misinterpretation.\n",
      "  warnings.warn(\n",
      "/home/work/.local/lib/python3.8/site-packages/seaborn/_decorators.py:36: FutureWarning: Pass the following variable as a keyword arg: x. From version 0.12, the only valid positional argument will be `data`, and passing other arguments without an explicit keyword will result in an error or misinterpretation.\n",
      "  warnings.warn(\n",
      "/home/work/.local/lib/python3.8/site-packages/seaborn/_decorators.py:36: FutureWarning: Pass the following variable as a keyword arg: x. From version 0.12, the only valid positional argument will be `data`, and passing other arguments without an explicit keyword will result in an error or misinterpretation.\n",
      "  warnings.warn(\n",
      "/home/work/.local/lib/python3.8/site-packages/seaborn/_decorators.py:36: FutureWarning: Pass the following variable as a keyword arg: x. From version 0.12, the only valid positional argument will be `data`, and passing other arguments without an explicit keyword will result in an error or misinterpretation.\n",
      "  warnings.warn(\n",
      "/home/work/.local/lib/python3.8/site-packages/seaborn/_decorators.py:36: FutureWarning: Pass the following variable as a keyword arg: x. From version 0.12, the only valid positional argument will be `data`, and passing other arguments without an explicit keyword will result in an error or misinterpretation.\n",
      "  warnings.warn(\n"
     ]
    },
    {
     "data": {
      "image/png": "[encoded data removed]",
      "text/plain": [
       "<Figure size 1080x1080 with 16 Axes>"
      ]
     },
     "metadata": {
      "needs_background": "light"
     },
     "output_type": "display_data"
    }
   ],
   "source": [
    "plt.figure(figsize=(15, 15))\n",
    "\n",
    "for idx, col in enumerate(list(df_train)):\n",
    "    plt.subplot(4, 4, idx+1)\n",
    "    sns.boxplot(df_train[col])"
   ]
  },
  {
   "cell_type": "code",
   "execution_count": 13,
   "metadata": {
    "colab": {
     "base_uri": "https://localhost:8080/",
     "height": 540
    },
    "id": "yZgIR7PPHgvs",
    "outputId": "6e8cf4be-4de7-419c-a584-0647e76840d4"
   },
   "outputs": [
    {
     "data": {
      "text/html": [
       "<div>\n",
       "<style scoped>\n",
       "    .dataframe tbody tr th:only-of-type {\n",
       "        vertical-align: middle;\n",
       "    }\n",
       "\n",
       "    .dataframe tbody tr th {\n",
       "        vertical-align: top;\n",
       "    }\n",
       "\n",
       "    .dataframe thead th {\n",
       "        text-align: right;\n",
       "    }\n",
       "</style>\n",
       "<table border=\"1\" class=\"dataframe\">\n",
       "  <thead>\n",
       "    <tr style=\"text-align: right;\">\n",
       "      <th></th>\n",
       "      <th>Culmen Length (mm)</th>\n",
       "      <th>Culmen Depth (mm)</th>\n",
       "      <th>Flipper Length (mm)</th>\n",
       "      <th>Delta 15 N (o/oo)</th>\n",
       "      <th>Delta 13 C (o/oo)</th>\n",
       "      <th>Species_Adelie Penguin (Pygoscelis adeliae)</th>\n",
       "      <th>Species_Chinstrap penguin (Pygoscelis antarctica)</th>\n",
       "      <th>Species_Gentoo penguin (Pygoscelis papua)</th>\n",
       "      <th>Island_Biscoe</th>\n",
       "      <th>Island_Dream</th>\n",
       "      <th>Island_Torgersen</th>\n",
       "      <th>Clutch Completion_No</th>\n",
       "      <th>Clutch Completion_Yes</th>\n",
       "      <th>Sex_FEMALE</th>\n",
       "      <th>Sex_MALE</th>\n",
       "    </tr>\n",
       "  </thead>\n",
       "  <tbody>\n",
       "    <tr>\n",
       "      <th>0</th>\n",
       "      <td>50.0</td>\n",
       "      <td>15.3</td>\n",
       "      <td>220</td>\n",
       "      <td>8.305150</td>\n",
       "      <td>-25.190170</td>\n",
       "      <td>0</td>\n",
       "      <td>0</td>\n",
       "      <td>1</td>\n",
       "      <td>1</td>\n",
       "      <td>0</td>\n",
       "      <td>0</td>\n",
       "      <td>0</td>\n",
       "      <td>1</td>\n",
       "      <td>0</td>\n",
       "      <td>1</td>\n",
       "    </tr>\n",
       "    <tr>\n",
       "      <th>1</th>\n",
       "      <td>49.5</td>\n",
       "      <td>19.0</td>\n",
       "      <td>200</td>\n",
       "      <td>9.630740</td>\n",
       "      <td>-24.346840</td>\n",
       "      <td>0</td>\n",
       "      <td>1</td>\n",
       "      <td>0</td>\n",
       "      <td>0</td>\n",
       "      <td>1</td>\n",
       "      <td>0</td>\n",
       "      <td>1</td>\n",
       "      <td>0</td>\n",
       "      <td>0</td>\n",
       "      <td>1</td>\n",
       "    </tr>\n",
       "    <tr>\n",
       "      <th>2</th>\n",
       "      <td>45.1</td>\n",
       "      <td>14.4</td>\n",
       "      <td>210</td>\n",
       "      <td>8.519510</td>\n",
       "      <td>-27.018540</td>\n",
       "      <td>0</td>\n",
       "      <td>0</td>\n",
       "      <td>1</td>\n",
       "      <td>1</td>\n",
       "      <td>0</td>\n",
       "      <td>0</td>\n",
       "      <td>0</td>\n",
       "      <td>1</td>\n",
       "      <td>1</td>\n",
       "      <td>0</td>\n",
       "    </tr>\n",
       "    <tr>\n",
       "      <th>3</th>\n",
       "      <td>44.5</td>\n",
       "      <td>14.7</td>\n",
       "      <td>214</td>\n",
       "      <td>8.201060</td>\n",
       "      <td>-26.165240</td>\n",
       "      <td>0</td>\n",
       "      <td>0</td>\n",
       "      <td>1</td>\n",
       "      <td>1</td>\n",
       "      <td>0</td>\n",
       "      <td>0</td>\n",
       "      <td>0</td>\n",
       "      <td>1</td>\n",
       "      <td>1</td>\n",
       "      <td>0</td>\n",
       "    </tr>\n",
       "    <tr>\n",
       "      <th>4</th>\n",
       "      <td>49.6</td>\n",
       "      <td>16.0</td>\n",
       "      <td>225</td>\n",
       "      <td>8.383240</td>\n",
       "      <td>-26.842720</td>\n",
       "      <td>0</td>\n",
       "      <td>0</td>\n",
       "      <td>1</td>\n",
       "      <td>1</td>\n",
       "      <td>0</td>\n",
       "      <td>0</td>\n",
       "      <td>1</td>\n",
       "      <td>0</td>\n",
       "      <td>0</td>\n",
       "      <td>1</td>\n",
       "    </tr>\n",
       "    <tr>\n",
       "      <th>...</th>\n",
       "      <td>...</td>\n",
       "      <td>...</td>\n",
       "      <td>...</td>\n",
       "      <td>...</td>\n",
       "      <td>...</td>\n",
       "      <td>...</td>\n",
       "      <td>...</td>\n",
       "      <td>...</td>\n",
       "      <td>...</td>\n",
       "      <td>...</td>\n",
       "      <td>...</td>\n",
       "      <td>...</td>\n",
       "      <td>...</td>\n",
       "      <td>...</td>\n",
       "      <td>...</td>\n",
       "    </tr>\n",
       "    <tr>\n",
       "      <th>109</th>\n",
       "      <td>36.6</td>\n",
       "      <td>17.8</td>\n",
       "      <td>185</td>\n",
       "      <td>8.737634</td>\n",
       "      <td>-25.723051</td>\n",
       "      <td>1</td>\n",
       "      <td>0</td>\n",
       "      <td>0</td>\n",
       "      <td>0</td>\n",
       "      <td>0</td>\n",
       "      <td>1</td>\n",
       "      <td>0</td>\n",
       "      <td>1</td>\n",
       "      <td>1</td>\n",
       "      <td>0</td>\n",
       "    </tr>\n",
       "    <tr>\n",
       "      <th>110</th>\n",
       "      <td>39.2</td>\n",
       "      <td>18.6</td>\n",
       "      <td>190</td>\n",
       "      <td>9.110060</td>\n",
       "      <td>-25.795490</td>\n",
       "      <td>1</td>\n",
       "      <td>0</td>\n",
       "      <td>0</td>\n",
       "      <td>0</td>\n",
       "      <td>1</td>\n",
       "      <td>0</td>\n",
       "      <td>0</td>\n",
       "      <td>1</td>\n",
       "      <td>0</td>\n",
       "      <td>1</td>\n",
       "    </tr>\n",
       "    <tr>\n",
       "      <th>111</th>\n",
       "      <td>43.2</td>\n",
       "      <td>18.5</td>\n",
       "      <td>192</td>\n",
       "      <td>8.970250</td>\n",
       "      <td>-26.036790</td>\n",
       "      <td>1</td>\n",
       "      <td>0</td>\n",
       "      <td>0</td>\n",
       "      <td>0</td>\n",
       "      <td>1</td>\n",
       "      <td>0</td>\n",
       "      <td>0</td>\n",
       "      <td>1</td>\n",
       "      <td>0</td>\n",
       "      <td>1</td>\n",
       "    </tr>\n",
       "    <tr>\n",
       "      <th>112</th>\n",
       "      <td>46.9</td>\n",
       "      <td>16.6</td>\n",
       "      <td>192</td>\n",
       "      <td>9.805890</td>\n",
       "      <td>-24.737350</td>\n",
       "      <td>0</td>\n",
       "      <td>1</td>\n",
       "      <td>0</td>\n",
       "      <td>0</td>\n",
       "      <td>1</td>\n",
       "      <td>0</td>\n",
       "      <td>1</td>\n",
       "      <td>0</td>\n",
       "      <td>1</td>\n",
       "      <td>0</td>\n",
       "    </tr>\n",
       "    <tr>\n",
       "      <th>113</th>\n",
       "      <td>50.8</td>\n",
       "      <td>17.3</td>\n",
       "      <td>228</td>\n",
       "      <td>8.274280</td>\n",
       "      <td>-26.300190</td>\n",
       "      <td>0</td>\n",
       "      <td>0</td>\n",
       "      <td>1</td>\n",
       "      <td>1</td>\n",
       "      <td>0</td>\n",
       "      <td>0</td>\n",
       "      <td>0</td>\n",
       "      <td>1</td>\n",
       "      <td>0</td>\n",
       "      <td>1</td>\n",
       "    </tr>\n",
       "  </tbody>\n",
       "</table>\n",
       "<p>114 rows × 15 columns</p>\n",
       "</div>"
      ],
      "text/plain": [
       "     Culmen Length (mm)  Culmen Depth (mm)  Flipper Length (mm)  \\\n",
       "0                  50.0               15.3                  220   \n",
       "1                  49.5               19.0                  200   \n",
       "2                  45.1               14.4                  210   \n",
       "3                  44.5               14.7                  214   \n",
       "4                  49.6               16.0                  225   \n",
       "..                  ...                ...                  ...   \n",
       "109                36.6               17.8                  185   \n",
       "110                39.2               18.6                  190   \n",
       "111                43.2               18.5                  192   \n",
       "112                46.9               16.6                  192   \n",
       "113                50.8               17.3                  228   \n",
       "\n",
       "     Delta 15 N (o/oo)  Delta 13 C (o/oo)  \\\n",
       "0             8.305150         -25.190170   \n",
       "1             9.630740         -24.346840   \n",
       "2             8.519510         -27.018540   \n",
       "3             8.201060         -26.165240   \n",
       "4             8.383240         -26.842720   \n",
       "..                 ...                ...   \n",
       "109           8.737634         -25.723051   \n",
       "110           9.110060         -25.795490   \n",
       "111           8.970250         -26.036790   \n",
       "112           9.805890         -24.737350   \n",
       "113           8.274280         -26.300190   \n",
       "\n",
       "     Species_Adelie Penguin (Pygoscelis adeliae)  \\\n",
       "0                                              0   \n",
       "1                                              0   \n",
       "2                                              0   \n",
       "3                                              0   \n",
       "4                                              0   \n",
       "..                                           ...   \n",
       "109                                            1   \n",
       "110                                            1   \n",
       "111                                            1   \n",
       "112                                            0   \n",
       "113                                            0   \n",
       "\n",
       "     Species_Chinstrap penguin (Pygoscelis antarctica)  \\\n",
       "0                                                    0   \n",
       "1                                                    1   \n",
       "2                                                    0   \n",
       "3                                                    0   \n",
       "4                                                    0   \n",
       "..                                                 ...   \n",
       "109                                                  0   \n",
       "110                                                  0   \n",
       "111                                                  0   \n",
       "112                                                  1   \n",
       "113                                                  0   \n",
       "\n",
       "     Species_Gentoo penguin (Pygoscelis papua)  Island_Biscoe  Island_Dream  \\\n",
       "0                                            1              1             0   \n",
       "1                                            0              0             1   \n",
       "2                                            1              1             0   \n",
       "3                                            1              1             0   \n",
       "4                                            1              1             0   \n",
       "..                                         ...            ...           ...   \n",
       "109                                          0              0             0   \n",
       "110                                          0              0             1   \n",
       "111                                          0              0             1   \n",
       "112                                          0              0             1   \n",
       "113                                          1              1             0   \n",
       "\n",
       "     Island_Torgersen  Clutch Completion_No  Clutch Completion_Yes  \\\n",
       "0                   0                     0                      1   \n",
       "1                   0                     1                      0   \n",
       "2                   0                     0                      1   \n",
       "3                   0                     0                      1   \n",
       "4                   0                     1                      0   \n",
       "..                ...                   ...                    ...   \n",
       "109                 1                     0                      1   \n",
       "110                 0                     0                      1   \n",
       "111                 0                     0                      1   \n",
       "112                 0                     1                      0   \n",
       "113                 0                     0                      1   \n",
       "\n",
       "     Sex_FEMALE  Sex_MALE  \n",
       "0             0         1  \n",
       "1             0         1  \n",
       "2             1         0  \n",
       "3             1         0  \n",
       "4             0         1  \n",
       "..          ...       ...  \n",
       "109           1         0  \n",
       "110           0         1  \n",
       "111           0         1  \n",
       "112           1         0  \n",
       "113           0         1  \n",
       "\n",
       "[114 rows x 15 columns]"
      ]
     },
     "execution_count": 13,
     "metadata": {},
     "output_type": "execute_result"
    }
   ],
   "source": [
    "X"
   ]
  },
  {
   "cell_type": "code",
   "execution_count": 14,
   "metadata": {
    "id": "NWP_gImq6sEf"
   },
   "outputs": [],
   "source": [
    "from sklearn.model_selection import train_test_split\n",
    "\n",
    "x_train, x_test, y_train, y_test = train_test_split(X, Y, test_size=0.1)"
   ]
  },
  {
   "cell_type": "markdown",
   "metadata": {
    "id": "R6eiObILILZ8"
   },
   "source": []
  },
  {
   "cell_type": "code",
   "execution_count": 15,
   "metadata": {
    "id": "kbtcddgRy0er"
   },
   "outputs": [],
   "source": [
    "from sklearn.neighbors import KNeighborsRegressor\n",
    "from sklearn.linear_model import LinearRegression\n",
    "from sklearn.linear_model import Ridge\n",
    "from sklearn.linear_model import Lasso\n",
    "from sklearn.tree import DecisionTreeRegressor\n",
    "from sklearn.ensemble import RandomForestRegressor\n",
    "from sklearn.ensemble import GradientBoostingRegressor\n",
    "from xgboost import XGBRegressor\n",
    "from lightgbm import LGBMRegressor"
   ]
  },
  {
   "cell_type": "markdown",
   "metadata": {
    "id": "VTmzequJCEjH"
   },
   "source": [
    "모델의 선택은 시행착오라고 배웠습니다. 따라서 여러 개의 모델들의 성능을 출력해보고 그 중 탑3를 가져와 앙상블을 진행해보겠습니다."
   ]
  },
  {
   "cell_type": "code",
   "execution_count": 16,
   "metadata": {
    "id": "88pMqVuMvNit"
   },
   "outputs": [],
   "source": [
    "score_List=[]"
   ]
  },
  {
   "cell_type": "code",
   "execution_count": 17,
   "metadata": {
    "colab": {
     "base_uri": "https://localhost:8080/"
    },
    "id": "BASYQX45vT1M",
    "outputId": "83128c0b-fb44-44cb-b053-2e0fd91972af"
   },
   "outputs": [],
   "source": [
    "model = KNeighborsRegressor(n_neighbors=5).fit(x_train, y_train)\n",
    "score_List.append(f'KNeighborsRegressor: train_score: {model.score(x_train, y_train)}, val_score: {model.score(x_test, y_test)}')\n",
    "\n",
    "model = LinearRegression().fit(x_train, y_train)\n",
    "score_List.append(f'LinearRegression: train_score: {model.score(x_train, y_train)}, val_score: {model.score(x_test, y_test)}')\n",
    "\n",
    "model = Ridge().fit(x_train, y_train)\n",
    "score_List.append(f'Ridge: train_score: {model.score(x_train, y_train)}, val_score: {model.score(x_test, y_test)}')\n",
    "\n",
    "model = Lasso().fit(x_train, y_train)\n",
    "score_List.append(f'Lasso: train_score: {model.score(x_train, y_train)}, val_score: {model.score(x_test, y_test)}')\n",
    "\n",
    "model = DecisionTreeRegressor().fit(x_train, y_train)\n",
    "score_List.append(f'DecisionTreeRegressor: train_score: {model.score(x_train, y_train)}, val_score: {model.score(x_test, y_test)}')\n",
    "\n",
    "model = RandomForestRegressor().fit(x_train, y_train)\n",
    "score_List.append(f'RandomForestRegressor: train_score: {model.score(x_train, y_train)}, val_score: {model.score(x_test, y_test)}')\n",
    "\n",
    "model = GradientBoostingRegressor().fit(x_train, y_train)\n",
    "score_List.append(f'GradientBoostingRegressor: train_score: {model.score(x_train, y_train)}, val_score: {model.score(x_test, y_test)}')\n",
    "\n",
    "model = XGBRegressor().fit(x_train, y_train)\n",
    "score_List.append(f'XGBRegressor: train_score: {model.score(x_train, y_train)}, val_score: {model.score(x_test, y_test)}')\n",
    "\n",
    "model = LGBMRegressor().fit(x_train, y_train)\n",
    "score_List.append(f'LGBMRegressor: train_score: {model.score(x_train, y_train)}, val_score: {model.score(x_test, y_test)}')"
   ]
  },
  {
   "cell_type": "code",
   "execution_count": 18,
   "metadata": {
    "colab": {
     "base_uri": "https://localhost:8080/"
    },
    "id": "XzKK76U_we03",
    "outputId": "f3d45729-0770-4733-de05-b8ba433cf6f7"
   },
   "outputs": [
    {
     "name": "stdout",
     "output_type": "stream",
     "text": [
      "KNeighborsRegressor: train_score: 0.8480426204712608, val_score: 0.6942956363515327\n",
      "LinearRegression: train_score: 0.8748397552288102, val_score: 0.7657539048128132\n",
      "Ridge: train_score: 0.8732915508527898, val_score: 0.7676730940802267\n",
      "Lasso: train_score: 0.8746913311471938, val_score: 0.7717934644698524\n",
      "DecisionTreeRegressor: train_score: 1.0, val_score: 0.5362749775327023\n",
      "RandomForestRegressor: train_score: 0.9761125893067262, val_score: 0.692605523071973\n",
      "GradientBoostingRegressor: train_score: 0.9925865742732187, val_score: 0.6284569005210976\n",
      "XGBRegressor: train_score: 0.9999999968754548, val_score: 0.3510538661674739\n",
      "LGBMRegressor: train_score: 0.9205606647287853, val_score: 0.7013785158499707\n"
     ]
    },
    {
     "data": {
      "text/plain": [
       "[None, None, None, None, None, None, None, None, None]"
      ]
     },
     "execution_count": 18,
     "metadata": {},
     "output_type": "execute_result"
    }
   ],
   "source": [
    "[print(i) for i in score_List]"
   ]
  },
  {
   "cell_type": "markdown",
   "metadata": {
    "id": "QQp1Fqq3PD2O"
   },
   "source": [
    "train_score가 아닌 val_score를 봐주셔야합니다.\n",
    "\n",
    "LinearRegression, Ridge, Lasso, LGBMRegressor 등이 성능이 좋게 나온 것을 확인할 수 있었습니다."
   ]
  },
  {
   "cell_type": "code",
   "execution_count": 19,
   "metadata": {
    "colab": {
     "base_uri": "https://localhost:8080/"
    },
    "id": "ygwtVH1m9GV5",
    "outputId": "2bb6e873-fbc1-4ff6-fe7c-31ff84faaad9"
   },
   "outputs": [],
   "source": [
    "model_LR = LinearRegression().fit(X, Y)\n",
    "model_RID = Ridge().fit(X, Y)\n",
    "model_LA = Lasso().fit(X, Y)\n",
    "model_LGBM = LGBMRegressor().fit(X, Y)\n",
    "model_XGB = XGBRegressor().fit(X, Y)"
   ]
  },
  {
   "cell_type": "markdown",
   "metadata": {
    "id": "L0eAmw-DCOOZ"
   },
   "source": [
    "random_state가 없기 때문에 순위는 항상 바뀝니다.\n",
    "저는 LinearRegression, Ridge, Lasso, XGBRegressor, LGBMRegressor 모델을 택했습니다."
   ]
  },
  {
   "cell_type": "code",
   "execution_count": 20,
   "metadata": {
    "colab": {
     "base_uri": "https://localhost:8080/",
     "height": 540
    },
    "id": "ozLAOVev94V3",
    "outputId": "fad45d1b-fe06-44a5-925f-dad6ada290b0"
   },
   "outputs": [
    {
     "data": {
      "text/html": [
       "<div>\n",
       "<style scoped>\n",
       "    .dataframe tbody tr th:only-of-type {\n",
       "        vertical-align: middle;\n",
       "    }\n",
       "\n",
       "    .dataframe tbody tr th {\n",
       "        vertical-align: top;\n",
       "    }\n",
       "\n",
       "    .dataframe thead th {\n",
       "        text-align: right;\n",
       "    }\n",
       "</style>\n",
       "<table border=\"1\" class=\"dataframe\">\n",
       "  <thead>\n",
       "    <tr style=\"text-align: right;\">\n",
       "      <th></th>\n",
       "      <th>Culmen Length (mm)</th>\n",
       "      <th>Culmen Depth (mm)</th>\n",
       "      <th>Flipper Length (mm)</th>\n",
       "      <th>Delta 15 N (o/oo)</th>\n",
       "      <th>Delta 13 C (o/oo)</th>\n",
       "      <th>Species_Adelie Penguin (Pygoscelis adeliae)</th>\n",
       "      <th>Species_Chinstrap penguin (Pygoscelis antarctica)</th>\n",
       "      <th>Species_Gentoo penguin (Pygoscelis papua)</th>\n",
       "      <th>Island_Biscoe</th>\n",
       "      <th>Island_Dream</th>\n",
       "      <th>Island_Torgersen</th>\n",
       "      <th>Clutch Completion_No</th>\n",
       "      <th>Clutch Completion_Yes</th>\n",
       "      <th>Sex_FEMALE</th>\n",
       "      <th>Sex_MALE</th>\n",
       "    </tr>\n",
       "  </thead>\n",
       "  <tbody>\n",
       "    <tr>\n",
       "      <th>0</th>\n",
       "      <td>52.0</td>\n",
       "      <td>20.7</td>\n",
       "      <td>210.0</td>\n",
       "      <td>9.43146</td>\n",
       "      <td>-24.68440</td>\n",
       "      <td>0</td>\n",
       "      <td>1</td>\n",
       "      <td>0</td>\n",
       "      <td>0</td>\n",
       "      <td>1</td>\n",
       "      <td>0</td>\n",
       "      <td>0</td>\n",
       "      <td>1</td>\n",
       "      <td>0</td>\n",
       "      <td>1</td>\n",
       "    </tr>\n",
       "    <tr>\n",
       "      <th>1</th>\n",
       "      <td>55.9</td>\n",
       "      <td>17.0</td>\n",
       "      <td>228.0</td>\n",
       "      <td>8.31180</td>\n",
       "      <td>-26.35425</td>\n",
       "      <td>0</td>\n",
       "      <td>0</td>\n",
       "      <td>1</td>\n",
       "      <td>1</td>\n",
       "      <td>0</td>\n",
       "      <td>0</td>\n",
       "      <td>0</td>\n",
       "      <td>1</td>\n",
       "      <td>0</td>\n",
       "      <td>1</td>\n",
       "    </tr>\n",
       "    <tr>\n",
       "      <th>2</th>\n",
       "      <td>38.9</td>\n",
       "      <td>18.8</td>\n",
       "      <td>190.0</td>\n",
       "      <td>8.36936</td>\n",
       "      <td>-26.11199</td>\n",
       "      <td>1</td>\n",
       "      <td>0</td>\n",
       "      <td>0</td>\n",
       "      <td>0</td>\n",
       "      <td>1</td>\n",
       "      <td>0</td>\n",
       "      <td>0</td>\n",
       "      <td>1</td>\n",
       "      <td>1</td>\n",
       "      <td>0</td>\n",
       "    </tr>\n",
       "    <tr>\n",
       "      <th>3</th>\n",
       "      <td>45.2</td>\n",
       "      <td>16.6</td>\n",
       "      <td>191.0</td>\n",
       "      <td>9.62357</td>\n",
       "      <td>-24.78984</td>\n",
       "      <td>0</td>\n",
       "      <td>1</td>\n",
       "      <td>0</td>\n",
       "      <td>0</td>\n",
       "      <td>1</td>\n",
       "      <td>0</td>\n",
       "      <td>0</td>\n",
       "      <td>1</td>\n",
       "      <td>1</td>\n",
       "      <td>0</td>\n",
       "    </tr>\n",
       "    <tr>\n",
       "      <th>4</th>\n",
       "      <td>37.9</td>\n",
       "      <td>18.6</td>\n",
       "      <td>172.0</td>\n",
       "      <td>8.38404</td>\n",
       "      <td>-25.19837</td>\n",
       "      <td>1</td>\n",
       "      <td>0</td>\n",
       "      <td>0</td>\n",
       "      <td>1</td>\n",
       "      <td>0</td>\n",
       "      <td>0</td>\n",
       "      <td>1</td>\n",
       "      <td>0</td>\n",
       "      <td>1</td>\n",
       "      <td>0</td>\n",
       "    </tr>\n",
       "    <tr>\n",
       "      <th>...</th>\n",
       "      <td>...</td>\n",
       "      <td>...</td>\n",
       "      <td>...</td>\n",
       "      <td>...</td>\n",
       "      <td>...</td>\n",
       "      <td>...</td>\n",
       "      <td>...</td>\n",
       "      <td>...</td>\n",
       "      <td>...</td>\n",
       "      <td>...</td>\n",
       "      <td>...</td>\n",
       "      <td>...</td>\n",
       "      <td>...</td>\n",
       "      <td>...</td>\n",
       "      <td>...</td>\n",
       "    </tr>\n",
       "    <tr>\n",
       "      <th>223</th>\n",
       "      <td>49.3</td>\n",
       "      <td>19.9</td>\n",
       "      <td>203.0</td>\n",
       "      <td>9.88809</td>\n",
       "      <td>-24.59513</td>\n",
       "      <td>0</td>\n",
       "      <td>1</td>\n",
       "      <td>0</td>\n",
       "      <td>0</td>\n",
       "      <td>1</td>\n",
       "      <td>0</td>\n",
       "      <td>0</td>\n",
       "      <td>1</td>\n",
       "      <td>0</td>\n",
       "      <td>1</td>\n",
       "    </tr>\n",
       "    <tr>\n",
       "      <th>224</th>\n",
       "      <td>46.5</td>\n",
       "      <td>14.8</td>\n",
       "      <td>217.0</td>\n",
       "      <td>8.58487</td>\n",
       "      <td>-26.59290</td>\n",
       "      <td>0</td>\n",
       "      <td>0</td>\n",
       "      <td>1</td>\n",
       "      <td>1</td>\n",
       "      <td>0</td>\n",
       "      <td>0</td>\n",
       "      <td>0</td>\n",
       "      <td>1</td>\n",
       "      <td>1</td>\n",
       "      <td>0</td>\n",
       "    </tr>\n",
       "    <tr>\n",
       "      <th>225</th>\n",
       "      <td>46.5</td>\n",
       "      <td>13.5</td>\n",
       "      <td>210.0</td>\n",
       "      <td>7.99530</td>\n",
       "      <td>-25.32829</td>\n",
       "      <td>0</td>\n",
       "      <td>0</td>\n",
       "      <td>1</td>\n",
       "      <td>1</td>\n",
       "      <td>0</td>\n",
       "      <td>0</td>\n",
       "      <td>0</td>\n",
       "      <td>1</td>\n",
       "      <td>1</td>\n",
       "      <td>0</td>\n",
       "    </tr>\n",
       "    <tr>\n",
       "      <th>226</th>\n",
       "      <td>50.5</td>\n",
       "      <td>19.6</td>\n",
       "      <td>201.0</td>\n",
       "      <td>9.80590</td>\n",
       "      <td>-24.72940</td>\n",
       "      <td>0</td>\n",
       "      <td>1</td>\n",
       "      <td>0</td>\n",
       "      <td>0</td>\n",
       "      <td>1</td>\n",
       "      <td>0</td>\n",
       "      <td>0</td>\n",
       "      <td>1</td>\n",
       "      <td>0</td>\n",
       "      <td>1</td>\n",
       "    </tr>\n",
       "    <tr>\n",
       "      <th>227</th>\n",
       "      <td>37.6</td>\n",
       "      <td>19.1</td>\n",
       "      <td>194.0</td>\n",
       "      <td>9.10800</td>\n",
       "      <td>-25.89677</td>\n",
       "      <td>1</td>\n",
       "      <td>0</td>\n",
       "      <td>0</td>\n",
       "      <td>1</td>\n",
       "      <td>0</td>\n",
       "      <td>0</td>\n",
       "      <td>0</td>\n",
       "      <td>1</td>\n",
       "      <td>0</td>\n",
       "      <td>1</td>\n",
       "    </tr>\n",
       "  </tbody>\n",
       "</table>\n",
       "<p>228 rows × 15 columns</p>\n",
       "</div>"
      ],
      "text/plain": [
       "     Culmen Length (mm)  Culmen Depth (mm)  Flipper Length (mm)  \\\n",
       "0                  52.0               20.7                210.0   \n",
       "1                  55.9               17.0                228.0   \n",
       "2                  38.9               18.8                190.0   \n",
       "3                  45.2               16.6                191.0   \n",
       "4                  37.9               18.6                172.0   \n",
       "..                  ...                ...                  ...   \n",
       "223                49.3               19.9                203.0   \n",
       "224                46.5               14.8                217.0   \n",
       "225                46.5               13.5                210.0   \n",
       "226                50.5               19.6                201.0   \n",
       "227                37.6               19.1                194.0   \n",
       "\n",
       "     Delta 15 N (o/oo)  Delta 13 C (o/oo)  \\\n",
       "0              9.43146          -24.68440   \n",
       "1              8.31180          -26.35425   \n",
       "2              8.36936          -26.11199   \n",
       "3              9.62357          -24.78984   \n",
       "4              8.38404          -25.19837   \n",
       "..                 ...                ...   \n",
       "223            9.88809          -24.59513   \n",
       "224            8.58487          -26.59290   \n",
       "225            7.99530          -25.32829   \n",
       "226            9.80590          -24.72940   \n",
       "227            9.10800          -25.89677   \n",
       "\n",
       "     Species_Adelie Penguin (Pygoscelis adeliae)  \\\n",
       "0                                              0   \n",
       "1                                              0   \n",
       "2                                              1   \n",
       "3                                              0   \n",
       "4                                              1   \n",
       "..                                           ...   \n",
       "223                                            0   \n",
       "224                                            0   \n",
       "225                                            0   \n",
       "226                                            0   \n",
       "227                                            1   \n",
       "\n",
       "     Species_Chinstrap penguin (Pygoscelis antarctica)  \\\n",
       "0                                                    1   \n",
       "1                                                    0   \n",
       "2                                                    0   \n",
       "3                                                    1   \n",
       "4                                                    0   \n",
       "..                                                 ...   \n",
       "223                                                  1   \n",
       "224                                                  0   \n",
       "225                                                  0   \n",
       "226                                                  1   \n",
       "227                                                  0   \n",
       "\n",
       "     Species_Gentoo penguin (Pygoscelis papua)  Island_Biscoe  Island_Dream  \\\n",
       "0                                            0              0             1   \n",
       "1                                            1              1             0   \n",
       "2                                            0              0             1   \n",
       "3                                            0              0             1   \n",
       "4                                            0              1             0   \n",
       "..                                         ...            ...           ...   \n",
       "223                                          0              0             1   \n",
       "224                                          1              1             0   \n",
       "225                                          1              1             0   \n",
       "226                                          0              0             1   \n",
       "227                                          0              1             0   \n",
       "\n",
       "     Island_Torgersen  Clutch Completion_No  Clutch Completion_Yes  \\\n",
       "0                   0                     0                      1   \n",
       "1                   0                     0                      1   \n",
       "2                   0                     0                      1   \n",
       "3                   0                     0                      1   \n",
       "4                   0                     1                      0   \n",
       "..                ...                   ...                    ...   \n",
       "223                 0                     0                      1   \n",
       "224                 0                     0                      1   \n",
       "225                 0                     0                      1   \n",
       "226                 0                     0                      1   \n",
       "227                 0                     0                      1   \n",
       "\n",
       "     Sex_FEMALE  Sex_MALE  \n",
       "0             0         1  \n",
       "1             0         1  \n",
       "2             1         0  \n",
       "3             1         0  \n",
       "4             1         0  \n",
       "..          ...       ...  \n",
       "223           0         1  \n",
       "224           1         0  \n",
       "225           1         0  \n",
       "226           0         1  \n",
       "227           0         1  \n",
       "\n",
       "[228 rows x 15 columns]"
      ]
     },
     "execution_count": 20,
     "metadata": {},
     "output_type": "execute_result"
    }
   ],
   "source": [
    "df_test"
   ]
  },
  {
   "cell_type": "markdown",
   "metadata": {
    "id": "1gKiG2Wj92_y"
   },
   "source": []
  },
  {
   "cell_type": "markdown",
   "metadata": {
    "id": "WTSqkXMLCdBY"
   },
   "source": [
    "앙상블 진행, 사실 저도 머신러닝 초보이기때문에 이 개념이 앙상블이 맞는지는 모르겠습니다. 하지만 단언컨데 성능향상은 확실했습니다."
   ]
  },
  {
   "cell_type": "code",
   "execution_count": 21,
   "metadata": {
    "colab": {
     "base_uri": "https://localhost:8080/"
    },
    "id": "cZMkPzrp9Sw7",
    "outputId": "c51e6ce3-8768-4a42-9c77-d94eac666a2d"
   },
   "outputs": [
    {
     "data": {
      "text/plain": [
       "array([4269.61321339, 5620.65906474, 3547.8072989 , 3377.79493883,\n",
       "       3498.12207803, 4160.72271767, 4581.0695603 , 5187.29344116,\n",
       "       4722.5970101 , 4124.82370156, 4184.79835192, 4569.17359212,\n",
       "       4730.8361955 , 4746.2736748 , 5141.70464143, 5256.48969631,\n",
       "       4103.1051987 , 3981.41985011, 3483.44866052, 3573.42660401,\n",
       "       4175.80985887, 5568.67151906, 5457.76936193, 4054.52601156,\n",
       "       3434.79942153, 4614.35565937, 3439.34051059, 4003.09678973,\n",
       "       4095.80646671, 4742.59079707, 3579.96101166, 4732.28361918,\n",
       "       3600.39138445, 4997.33720851, 3946.07970401, 3295.68485221,\n",
       "       4610.81851284, 3683.90574338, 4078.05458798, 4666.42000383,\n",
       "       4073.38024371, 3600.89999278, 4028.95195222, 5385.31907293,\n",
       "       3730.66947949, 4680.85073596, 3464.41815432, 4276.37493306,\n",
       "       4796.10429505, 5559.92008789, 3689.25054191, 4199.91779142,\n",
       "       3419.6315792 , 4190.69209961, 4223.68623856, 4090.9664929 ,\n",
       "       4717.44664789, 4129.55119667, 4685.86575967, 3659.07671357,\n",
       "       4107.1600074 , 3540.57302819, 3931.29091759, 5551.14821369,\n",
       "       3455.65025088, 4205.36489258, 4182.67409364, 4633.49788106,\n",
       "       3867.24756505, 3914.83035023, 4777.6770099 , 3296.01087742,\n",
       "       3497.17086919, 3533.6690246 , 5445.57859722, 4455.62777586,\n",
       "       3348.1112607 , 3871.67442942, 5295.87814587, 4724.0564462 ,\n",
       "       4152.15297918, 3440.70369427, 4196.00460112, 4679.94328215,\n",
       "       5133.51149743, 4182.14762068, 5298.01349517, 4265.75458334,\n",
       "       3513.82712597, 5178.11797874, 4557.17479596, 3583.2846656 ,\n",
       "       3615.36332531, 3721.28244926, 3393.65028658, 3422.75112931,\n",
       "       3548.39851494, 3402.78165309, 4758.26200514, 4206.45659549,\n",
       "       3448.86602537, 3321.59120191, 3352.75241677, 5326.20037448,\n",
       "       5722.04544934, 3340.04738337, 5259.63413423, 5425.17328649,\n",
       "       4213.24635598, 3365.43914782, 4553.46551819, 3292.66872174,\n",
       "       4080.41327981, 4089.08724596, 5241.04426706, 3895.99336136,\n",
       "       3579.55949386, 3538.61121883, 4182.47235035, 3937.37049012,\n",
       "       3950.92597735, 5321.53269547, 3475.59583971, 4427.94861771,\n",
       "       3946.74807139, 4106.59009308, 5198.07173027, 4179.71109769,\n",
       "       3403.22021004, 3800.41522865, 4127.64924578, 3961.42614361,\n",
       "       5368.34737371, 5239.19635266, 5255.33624605, 4030.90023029,\n",
       "       3632.63472753, 3453.67177663, 4643.90419028, 3370.6090927 ,\n",
       "       3977.50684024, 4595.5227531 , 3303.6758395 , 3411.78166347,\n",
       "       4419.53831391, 3468.75149199, 4695.79560501, 3631.77042868,\n",
       "       5517.34811584, 4192.68805534, 5287.19391871, 3585.91074462,\n",
       "       4810.23679022, 5346.68907966, 4078.63534858, 5595.47455759,\n",
       "       3533.91542991, 4043.09990601, 3525.73669556, 3556.04297397,\n",
       "       4042.77669796, 3433.02162214, 3458.73276806, 3283.92748924,\n",
       "       5292.17283331, 3435.02122146, 5408.69560216, 4813.27994161,\n",
       "       4114.85332614, 3741.95371424, 5556.15207587, 3467.17642707,\n",
       "       5249.92302161, 3387.44804324, 3546.2853833 , 4184.47947814,\n",
       "       4135.02301473, 4567.60996872, 5395.40393882, 3470.51394066,\n",
       "       3935.80060278, 4212.96051845, 3912.04737427, 4409.687922  ,\n",
       "       4577.22031808, 4330.05672999, 4963.82587625, 5238.4633383 ,\n",
       "       3448.36899176, 3219.19999582, 4268.20312935, 3589.3811709 ,\n",
       "       3708.42381473, 4133.5253561 , 4903.58546092, 5439.79728253,\n",
       "       4162.36898358, 5219.10517775, 3540.47796693, 3441.6859488 ,\n",
       "       3935.66333769, 4602.52508652, 3987.11636447, 4740.1670356 ,\n",
       "       4235.98397852, 3399.00591021, 3532.97665979, 4237.28417569,\n",
       "       4872.68861671, 4793.08892575, 3395.71666002, 3399.49978101,\n",
       "       3390.55579133, 3663.43544841, 3603.56670203, 4087.50071868,\n",
       "       5483.76417443, 3700.90047674, 4245.66248798, 4094.7036756 ,\n",
       "       3583.07751627, 3508.34827835, 4729.21750696, 4095.89589076,\n",
       "       4693.44730355, 4626.13858351, 3961.49088946, 4099.60398638])"
      ]
     },
     "execution_count": 21,
     "metadata": {},
     "output_type": "execute_result"
    }
   ],
   "source": [
    "pred_LR = model_LR.predict(df_test)\n",
    "pred_RID = model_RID.predict(df_test)\n",
    "pred_LA = model_LA.predict(df_test)\n",
    "pred_LGBM = model_LGBM.predict(df_test)\n",
    "pred_XGB = model_XGB.predict(df_test)\n",
    "pred = pred_LR*0.2 + pred_RID*0.2 + pred_LA*0.2 + pred_LGBM*0.2 + pred_XGB*0.2\n",
    "pred"
   ]
  },
  {
   "cell_type": "code",
   "execution_count": 22,
   "metadata": {
    "colab": {
     "base_uri": "https://localhost:8080/",
     "height": 424
    },
    "id": "v_Pbov-U-Ta4",
    "outputId": "464601ab-7e33-41b9-8b15-ec1c0b75e5ac"
   },
   "outputs": [
    {
     "data": {
      "text/html": [
       "<div>\n",
       "<style scoped>\n",
       "    .dataframe tbody tr th:only-of-type {\n",
       "        vertical-align: middle;\n",
       "    }\n",
       "\n",
       "    .dataframe tbody tr th {\n",
       "        vertical-align: top;\n",
       "    }\n",
       "\n",
       "    .dataframe thead th {\n",
       "        text-align: right;\n",
       "    }\n",
       "</style>\n",
       "<table border=\"1\" class=\"dataframe\">\n",
       "  <thead>\n",
       "    <tr style=\"text-align: right;\">\n",
       "      <th></th>\n",
       "      <th>id</th>\n",
       "      <th>Body Mass (g)</th>\n",
       "    </tr>\n",
       "  </thead>\n",
       "  <tbody>\n",
       "    <tr>\n",
       "      <th>0</th>\n",
       "      <td>0</td>\n",
       "      <td>4269.613213</td>\n",
       "    </tr>\n",
       "    <tr>\n",
       "      <th>1</th>\n",
       "      <td>1</td>\n",
       "      <td>5620.659065</td>\n",
       "    </tr>\n",
       "    <tr>\n",
       "      <th>2</th>\n",
       "      <td>2</td>\n",
       "      <td>3547.807299</td>\n",
       "    </tr>\n",
       "    <tr>\n",
       "      <th>3</th>\n",
       "      <td>3</td>\n",
       "      <td>3377.794939</td>\n",
       "    </tr>\n",
       "    <tr>\n",
       "      <th>4</th>\n",
       "      <td>4</td>\n",
       "      <td>3498.122078</td>\n",
       "    </tr>\n",
       "    <tr>\n",
       "      <th>...</th>\n",
       "      <td>...</td>\n",
       "      <td>...</td>\n",
       "    </tr>\n",
       "    <tr>\n",
       "      <th>223</th>\n",
       "      <td>223</td>\n",
       "      <td>4095.895891</td>\n",
       "    </tr>\n",
       "    <tr>\n",
       "      <th>224</th>\n",
       "      <td>224</td>\n",
       "      <td>4693.447304</td>\n",
       "    </tr>\n",
       "    <tr>\n",
       "      <th>225</th>\n",
       "      <td>225</td>\n",
       "      <td>4626.138584</td>\n",
       "    </tr>\n",
       "    <tr>\n",
       "      <th>226</th>\n",
       "      <td>226</td>\n",
       "      <td>3961.490889</td>\n",
       "    </tr>\n",
       "    <tr>\n",
       "      <th>227</th>\n",
       "      <td>227</td>\n",
       "      <td>4099.603986</td>\n",
       "    </tr>\n",
       "  </tbody>\n",
       "</table>\n",
       "<p>228 rows × 2 columns</p>\n",
       "</div>"
      ],
      "text/plain": [
       "      id  Body Mass (g)\n",
       "0      0    4269.613213\n",
       "1      1    5620.659065\n",
       "2      2    3547.807299\n",
       "3      3    3377.794939\n",
       "4      4    3498.122078\n",
       "..   ...            ...\n",
       "223  223    4095.895891\n",
       "224  224    4693.447304\n",
       "225  225    4626.138584\n",
       "226  226    3961.490889\n",
       "227  227    4099.603986\n",
       "\n",
       "[228 rows x 2 columns]"
      ]
     },
     "execution_count": 22,
     "metadata": {},
     "output_type": "execute_result"
    }
   ],
   "source": [
    "submission = pd.read_csv('./dataset/submission.csv')\n",
    "submission['Body Mass (g)'] = pred\n",
    "\n",
    "submission.to_csv('./submission.csv', index=False)\n",
    "submission"
   ]
  },
  {
   "cell_type": "code",
   "execution_count": null,
   "metadata": {
    "id": "J0ilUfUl-gi7"
   },
   "outputs": [],
   "source": []
  }
 ],
 "metadata": {
  "colab": {
   "collapsed_sections": [],
   "name": "데이콘_펭귄 몸무게 예측 경진대회_성지코딩.ipynb",
   "provenance": []
  },
  "kernelspec": {
   "display_name": "TensorFlow 2.7 on Python 3.8 & CUDA 11.3",
   "language": "python",
   "name": "python3"
  },
  "language_info": {
   "codemirror_mode": {
    "name": "ipython",
    "version": 3
   },
   "file_extension": ".py",
   "mimetype": "text/x-python",
   "name": "python",
   "nbconvert_exporter": "python",
   "pygments_lexer": "ipython3",
   "version": "3.8.10"
  }
 },
 "nbformat": 4,
 "nbformat_minor": 1
}
